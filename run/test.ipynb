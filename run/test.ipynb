{
 "cells": [
  {
   "cell_type": "code",
   "execution_count": 1,
   "metadata": {},
   "outputs": [],
   "source": [
    "import sys\n",
    "import torch\n",
    "import torchvision.transforms as T\n",
    "from IPython.display import Audio\n",
    "import librosa\n",
    "from src.Dataset import AudioMNIST\n",
    "import custom_transforms as CT\n",
    "from scipy import signal\n",
    "from scipy.signal import ShortTimeFFT\n",
    "from scipy.signal.windows import gaussian\n",
    "from scipy.signal import stft, istft"
   ]
  },
  {
   "cell_type": "code",
   "execution_count": 2,
   "metadata": {},
   "outputs": [],
   "source": [
    "sample_rate=22050\n",
    "n_fft=512\n",
    "root = '../Data'\n"
   ]
  },
  {
   "cell_type": "code",
   "execution_count": 3,
   "metadata": {},
   "outputs": [],
   "source": [
    "# For waveform output\n",
    "dataset_wave = AudioMNIST(\n",
    "    root='../Data',\n",
    "    target_sample_rate=22050,\n",
    "    transform=T.Compose([\n",
    "        CT.TrimSilence(5),\n",
    "        CT.FixLength(22050//4)\n",
    "    ]),\n",
    "    output_format='waveform'\n",
    ")\n",
    "\n",
    "# For spectrogram output (complex)\n",
    "dataset_spec = AudioMNIST(\n",
    "    root='../Data',\n",
    "    target_sample_rate=22050,\n",
    "    transform=T.Compose([\n",
    "        CT.TrimSilence(5),\n",
    "        CT.FixLength(22050//4)\n",
    "    ]),\n",
    "    output_format='spectrogram',\n",
    "    spec_params={\n",
    "        'n_fft': 512,\n",
    "        'n_freq': 128,\n",
    "        'n_time': 44,\n",
    "        'complex_output': False\n",
    "    }\n",
    ")\n",
    "\n",
    "# For magnitude spectrogram output\n",
    "dataset_mag_spec = AudioMNIST(\n",
    "    root='../Data',\n",
    "    target_sample_rate=22050,\n",
    "    transform=T.Compose([\n",
    "        CT.TrimSilence(5),\n",
    "        CT.FixLength(22050//4)\n",
    "    ]),\n",
    "    output_format='spectrogram',\n",
    "    spec_params={\n",
    "        'n_fft': 512,\n",
    "        'n_freq': 128,\n",
    "        'n_time': 44,\n",
    "        'complex_output': False\n",
    "    }\n",
    ")"
   ]
  },
  {
   "cell_type": "code",
   "execution_count": 4,
   "metadata": {},
   "outputs": [
    {
     "name": "stdout",
     "output_type": "stream",
     "text": [
      "torch.Size([2, 128, 44])\n"
     ]
    },
    {
     "data": {
      "text/plain": [
       "torch.Size([2, 128, 44])"
      ]
     },
     "execution_count": 4,
     "metadata": {},
     "output_type": "execute_result"
    }
   ],
   "source": [
    "import numpy as np\n",
    "Zxx = dataset_spec[30][0]\n",
    "Zxx.shape"
   ]
  },
  {
   "cell_type": "code",
   "execution_count": 8,
   "metadata": {},
   "outputs": [
    {
     "name": "stderr",
     "output_type": "stream",
     "text": [
      "C:\\Users\\kaasa\\AppData\\Local\\Temp\\ipykernel_15284\\1924799597.py:3: UserWarning: amplitude_to_db was called on complex input so phase information will be discarded. To suppress this warning, call amplitude_to_db(np.abs(S)) instead.\n",
      "  Zxxx = librosa.amplitude_to_db(Zxx_rec, ref = np.max)\n"
     ]
    },
    {
     "data": {
      "text/plain": [
       "<matplotlib.collections.QuadMesh at 0x1ebbed0bd00>"
      ]
     },
     "execution_count": 8,
     "metadata": {},
     "output_type": "execute_result"
    },
    {
     "data": {
      "image/png": "[encoded data removed]",
      "text/plain": [
       "<Figure size 640x480 with 1 Axes>"
      ]
     },
     "metadata": {},
     "output_type": "display_data"
    }
   ],
   "source": [
    "import matplotlib.pyplot as plt\n",
    "Zxx_rec = dataset_spec.twod_to_complex(Zxx)\n",
    "Zxxx = librosa.amplitude_to_db(Zxx_rec, ref = np.max)\n",
    "librosa.display.specshow(Zxxx[0])\n"
   ]
  },
  {
   "cell_type": "code",
   "execution_count": null,
   "metadata": {},
   "outputs": [],
   "source": [
    "import numpy as np\n",
    "Zxxx = np.abs(Zxx)\n",
    "Zxxx = np.atleast_3d(Zxxx).transpose(2,0,1)\n",
    "        # convert to decibel\n",
    "Zxxx = librosa.amplitude_to_db(Zxxx, ref = np.max)\n",
    "import matplotlib.pyplot as plt\n",
    "librosa.display.specshow(Zxxx[0])\n",
    "plt.title(\"Real\")"
   ]
  },
  {
   "cell_type": "code",
   "execution_count": null,
   "metadata": {},
   "outputs": [],
   "source": [
    "from torchsummary import summary\n",
    "from src.Classifier import LightningAudioClassifier\n",
    "\n",
    "model = LightningAudioClassifier()\n",
    "\n",
    "\n",
    "summary(model, (2, 128, 173),device='cpu')"
   ]
  },
  {
   "cell_type": "code",
   "execution_count": null,
   "metadata": {},
   "outputs": [],
   "source": []
  }
 ],
 "metadata": {
  "kernelspec": {
   "display_name": "VirtualEnv",
   "language": "python",
   "name": "python3"
  },
  "language_info": {
   "codemirror_mode": {
    "name": "ipython",
    "version": 3
   },
   "file_extension": ".py",
   "mimetype": "text/x-python",
   "name": "python",
   "nbconvert_exporter": "python",
   "pygments_lexer": "ipython3",
   "version": "3.10.0rc2"
  }
 },
 "nbformat": 4,
 "nbformat_minor": 2
}
