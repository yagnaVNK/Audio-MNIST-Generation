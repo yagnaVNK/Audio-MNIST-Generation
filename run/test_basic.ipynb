{
 "cells": [
  {
   "cell_type": "markdown",
   "metadata": {},
   "source": [
    "importing all the required modules"
   ]
  },
  {
   "cell_type": "code",
   "execution_count": 1,
   "metadata": {},
   "outputs": [
    {
     "name": "stderr",
     "output_type": "stream",
     "text": [
      "2025-02-03 11:49:58.357825: E external/local_xla/xla/stream_executor/cuda/cuda_fft.cc:477] Unable to register cuFFT factory: Attempting to register factory for plugin cuFFT when one has already been registered\n",
      "WARNING: All log messages before absl::InitializeLog() is called are written to STDERR\n",
      "E0000 00:00:1738601398.368550 3906474 cuda_dnn.cc:8310] Unable to register cuDNN factory: Attempting to register factory for plugin cuDNN when one has already been registered\n",
      "E0000 00:00:1738601398.371836 3906474 cuda_blas.cc:1418] Unable to register cuBLAS factory: Attempting to register factory for plugin cuBLAS when one has already been registered\n",
      "2025-02-03 11:49:58.383845: I tensorflow/core/platform/cpu_feature_guard.cc:210] This TensorFlow binary is optimized to use available CPU instructions in performance-critical operations.\n",
      "To enable the following instructions: AVX2 FMA, in other operations, rebuild TensorFlow with the appropriate compiler flags.\n",
      "/home/yagna/yagnaPythonEnv/lib/python3.12/site-packages/generative/networks/layers/vector_quantizer.py:86: FutureWarning: `torch.cuda.amp.autocast(args...)` is deprecated. Please use `torch.amp.autocast('cuda', args...)` instead.\n",
      "  @torch.cuda.amp.autocast(enabled=False)\n",
      "/home/yagna/yagnaPythonEnv/lib/python3.12/site-packages/generative/networks/layers/vector_quantizer.py:124: FutureWarning: `torch.cuda.amp.autocast(args...)` is deprecated. Please use `torch.amp.autocast('cuda', args...)` instead.\n",
      "  @torch.cuda.amp.autocast(enabled=False)\n"
     ]
    }
   ],
   "source": [
    "import torch\n",
    "import os\n",
    "import librosa\n",
    "import numpy as np\n",
    "from torch.utils.data import Dataset\n",
    "from pathlib import Path\n",
    "import scipy\n",
    "from glob import glob\n",
    "import matplotlib.pyplot as plt\n",
    "import custom_transforms as CT\n",
    "import torchvision.transforms as T\n",
    "from generative.networks.nets import VQVAE as VQVAE_MONAI\n",
    "from tqdm import tqdm\n",
    "from torch.utils.data import random_split, DataLoader\n",
    "import torch.nn.functional as F\n",
    "\n",
    "import matplotlib.pyplot as plt"
   ]
  },
  {
   "cell_type": "markdown",
   "metadata": {},
   "source": [
    "Defining the Dataset"
   ]
  },
  {
   "cell_type": "code",
   "execution_count": 2,
   "metadata": {},
   "outputs": [],
   "source": [
    "import torch\n",
    "from torch.utils.data import Dataset\n",
    "import librosa\n",
    "import numpy as np\n",
    "import scipy\n",
    "import os\n",
    "from glob import glob\n",
    "\n",
    "class AudioMNIST(Dataset):\n",
    "    def __init__(self, root, target_sample_rate=12000, duration=None, transform=None):\n",
    "        super(AudioMNIST, self).__init__()\n",
    "        self.root = root\n",
    "        self.target_sample_rate = target_sample_rate\n",
    "        self.duration = duration\n",
    "        self.transform = transform\n",
    "        self.wav_files = glob('*/*.wav', root_dir=root, recursive=True)\n",
    "        self.n_fft = 512\n",
    "\n",
    "    def get_spectrogram(self, waveform):\n",
    "        f, t, Zxx = scipy.signal.stft(\n",
    "            waveform, \n",
    "            self.target_sample_rate,\n",
    "            nperseg=self.n_fft//2,\n",
    "            noverlap=self.n_fft//4,\n",
    "            window='hann'\n",
    "        )\n",
    "        Zxx = Zxx[0:128, :-1]\n",
    "        \n",
    "        # Normalize amplitudes\n",
    "        amplitudes = np.abs(Zxx)\n",
    "        phases = np.angle(Zxx)\n",
    "        \n",
    "        self.amp_min = np.min(amplitudes)\n",
    "        self.amp_max = np.max(amplitudes)\n",
    "        \n",
    "        eps = 1e-10\n",
    "        normalized_amplitudes = (amplitudes - self.amp_min) / (self.amp_max - self.amp_min + eps)\n",
    "        Zxx_normalized = normalized_amplitudes * np.exp(1j * phases)\n",
    "        \n",
    "        return Zxx_normalized\n",
    "\n",
    "    def twod_to_complex(self, tensor):\n",
    "        tmp_tensor = tensor.reshape(2, tensor.shape[1]*tensor.shape[2])\n",
    "        complex_data = tmp_tensor[0,:] + 1j * tmp_tensor[1,:]\n",
    "        \n",
    "        # Denormalize amplitudes\n",
    "        amplitudes = np.abs(complex_data)\n",
    "        phases = np.angle(complex_data)\n",
    "        \n",
    "        denorm_amplitudes = amplitudes * (self.amp_max - self.amp_min) + self.amp_min\n",
    "        new_tensor = denorm_amplitudes * np.exp(1j * phases)\n",
    "        \n",
    "        return new_tensor.reshape(1, tensor.shape[1], tensor.shape[2])\n",
    "\n",
    "    def complex_to_2d(self, tensor):\n",
    "        new_tensor = np.zeros((2, tensor.shape[0]), dtype=np.float64)\n",
    "        new_tensor[0] = np.real(tensor).astype(np.float64)\n",
    "        new_tensor[1] = np.imag(tensor).astype(np.float64)\n",
    "        return new_tensor\n",
    "\n",
    "\n",
    "    def __getitem__(self, index):\n",
    "        file_name = os.path.join(self.root, self.wav_files[index])\n",
    "        label = int(os.path.basename(file_name)[0])\n",
    "        waveform, _ = librosa.load(file_name, sr=self.target_sample_rate, duration=self.duration)\n",
    "        \n",
    "        if self.transform is not None:\n",
    "            waveform = self.transform(waveform)\n",
    "            \n",
    "        Zxx = self.get_spectrogram(waveform)\n",
    "        datapoint = self.complex_to_2d(Zxx.flatten())\n",
    "        datapoint = datapoint.reshape(2, 128, 125)\n",
    "        datapoint = datapoint[:,:,:44]\n",
    "        return torch.tensor(datapoint, dtype=torch.float32), label\n",
    "    \n",
    "    def __len__(self):\n",
    "        return len(self.wav_files)"
   ]
  },
  {
   "cell_type": "code",
   "execution_count": 3,
   "metadata": {},
   "outputs": [],
   "source": [
    "transforms = [CT.TrimSilence(5), CT.FixLength(16000)]\n",
    "dataset = AudioMNIST('../Data', transform=T.Compose(transforms))"
   ]
  },
  {
   "cell_type": "code",
   "execution_count": 4,
   "metadata": {},
   "outputs": [],
   "source": [
    "model = VQVAE_MONAI(\n",
    "            spatial_dims=2,\n",
    "            in_channels=2,\n",
    "            out_channels=2,\n",
    "            num_res_layers=2,\n",
    "            downsample_parameters=((2, 4, 1, 1), (2, 4, 1, 1)),\n",
    "            upsample_parameters=((2, 4, 1, 1, 0), (2, 4, 1, 1, 0)),\n",
    "            num_channels=(256, 256),\n",
    "            num_res_channels=(256, 256),\n",
    "            num_embeddings=256,\n",
    "            embedding_dim=32\n",
    "        ).to(device='cuda:0')"
   ]
  },
  {
   "cell_type": "code",
   "execution_count": 5,
   "metadata": {},
   "outputs": [],
   "source": [
    "\n",
    "train_size = int(0.8 * len(dataset))\n",
    "val_size = int(0.10 * len(dataset))\n",
    "test_size = len(dataset) - train_size - val_size\n",
    "\n",
    "train_dataset, val_dataset, test_dataset = random_split(\n",
    "    dataset, \n",
    "    [train_size, val_size, test_size],\n",
    "    generator=torch.Generator().manual_seed(42)\n",
    ")\n",
    "\n",
    "# Create dataloaders\n",
    "train_loader = DataLoader(\n",
    "    train_dataset,\n",
    "    batch_size=32,\n",
    "    shuffle=True,\n",
    "    num_workers=4,\n",
    "    persistent_workers=True\n",
    ")\n",
    "\n",
    "val_loader = DataLoader(\n",
    "    val_dataset,\n",
    "    batch_size=32,\n",
    "    shuffle=False,\n",
    "    num_workers=4,\n",
    "    persistent_workers=True\n",
    ")\n",
    "\n",
    "test_loader = DataLoader(\n",
    "    test_dataset,\n",
    "    batch_size=32,\n",
    "    shuffle=False,\n",
    "    num_workers=4,\n",
    "    persistent_workers=True\n",
    ")"
   ]
  },
  {
   "cell_type": "code",
   "execution_count": 6,
   "metadata": {},
   "outputs": [],
   "source": [
    "# epochs = 20\n",
    "# optimizer = torch.optim.Adam(model.parameters(), lr=1e-4, weight_decay=1e-5)\n",
    "\n",
    "# for epoch in range(epochs):\n",
    "#     model.train()\n",
    "#     train_losses = []\n",
    "#     for data, label in tqdm(train_loader):\n",
    "#         images = data.to(device='cuda:0')\n",
    "#         reconstruction, quantization_loss = model(images)\n",
    "#         recons_loss = F.l1_loss(reconstruction, images)\n",
    "#         loss = recons_loss + quantization_loss\n",
    "        \n",
    "#         optimizer.zero_grad()\n",
    "#         loss.backward()\n",
    "#         optimizer.step()\n",
    "        \n",
    "#         train_losses.append(loss.item())\n",
    "    \n",
    "#     avg_train_loss = sum(train_losses) / len(train_losses)\n",
    "#     print(f\"Epoch {epoch + 1}, Train Loss: {avg_train_loss:.4f}\")\n",
    "    \n",
    "#     model.eval()\n",
    "#     val_losses = []\n",
    "    \n",
    "#     with torch.no_grad(): \n",
    "#         for data, label in tqdm(val_loader):\n",
    "#             images = data.to(device='cuda:0')\n",
    "#             reconstruction, quantization_loss = model(images)\n",
    "#             recons_loss = F.l1_loss(reconstruction, images)\n",
    "#             loss = recons_loss + quantization_loss\n",
    "            \n",
    "#             val_losses.append(loss.item())\n",
    "    \n",
    "#     avg_val_loss = sum(val_losses) / len(val_losses)\n",
    "#     print(f\"Epoch {epoch + 1}, Val Loss: {avg_val_loss:.4f}\")"
   ]
  },
  {
   "cell_type": "code",
   "execution_count": 7,
   "metadata": {},
   "outputs": [],
   "source": [
    "torch.save(model,\"final_model.pt\")"
   ]
  },
  {
   "cell_type": "code",
   "execution_count": 7,
   "metadata": {},
   "outputs": [
    {
     "name": "stderr",
     "output_type": "stream",
     "text": [
      "/tmp/ipykernel_3906474/884366239.py:1: FutureWarning: You are using `torch.load` with `weights_only=False` (the current default value), which uses the default pickle module implicitly. It is possible to construct malicious pickle data which will execute arbitrary code during unpickling (See https://github.com/pytorch/pytorch/blob/main/SECURITY.md#untrusted-models for more details). In a future release, the default value for `weights_only` will be flipped to `True`. This limits the functions that could be executed during unpickling. Arbitrary objects will no longer be allowed to be loaded via this mode unless they are explicitly allowlisted by the user via `torch.serialization.add_safe_globals`. We recommend you start setting `weights_only=True` for any use case where you don't have full control of the loaded file. Please open an issue on GitHub for any issues related to this experimental feature.\n",
      "  model = torch.load(\"saved_models/vqvae_monai.pth\").to(device='cuda:0')\n"
     ]
    },
    {
     "name": "stdout",
     "output_type": "stream",
     "text": [
      "(1, 128, 44)\n"
     ]
    },
    {
     "name": "stderr",
     "output_type": "stream",
     "text": [
      "/tmp/ipykernel_3906474/884366239.py:7: UserWarning: amplitude_to_db was called on complex input so phase information will be discarded. To suppress this warning, call amplitude_to_db(np.abs(S)) instead.\n",
      "  Img = librosa.amplitude_to_db(Complex, ref = np.max)\n"
     ]
    },
    {
     "data": {
      "text/plain": [
       "<matplotlib.collections.QuadMesh at 0x7fbc5a27fc80>"
      ]
     },
     "execution_count": 7,
     "metadata": {},
     "output_type": "execute_result"
    },
    {
     "data": {
      "image/png": "[encoded data removed]",
      "text/plain": [
       "<Figure size 640x480 with 1 Axes>"
      ]
     },
     "metadata": {},
     "output_type": "display_data"
    }
   ],
   "source": [
    "model = torch.load(\"saved_models/vqvae_monai.pth\").to(device='cuda:0')\n",
    "model.eval()\n",
    "\n",
    "sample1 = dataset[66][0]\n",
    "\n",
    "Complex= dataset.twod_to_complex(sample1)\n",
    "Img = librosa.amplitude_to_db(Complex, ref = np.max)\n",
    "print(Img.shape)\n",
    "librosa.display.specshow(Img[0])"
   ]
  },
  {
   "cell_type": "code",
   "execution_count": 9,
   "metadata": {},
   "outputs": [
    {
     "name": "stdout",
     "output_type": "stream",
     "text": [
      "(1, 5461)\n"
     ]
    },
    {
     "data": {
      "text/html": [
       "\n",
       "                <audio  controls=\"controls\" >\n",
       "                    <source src=\"data:audio/wav;base64,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\" type=\"audio/wav\" />\n",
       "                    Your browser does not support the audio element.\n",
       "                </audio>\n",
       "              "
      ],
      "text/plain": [
       "<IPython.lib.display.Audio object>"
      ]
     },
     "execution_count": 9,
     "metadata": {},
     "output_type": "execute_result"
    }
   ],
   "source": [
    "_,x = scipy.signal.istft(Complex, 12000)\n",
    "        # get amplitude\n",
    "print(x.shape)\n",
    "\n",
    "from IPython.display import Audio\n",
    "Audio(data=x, rate=12000)"
   ]
  },
  {
   "cell_type": "code",
   "execution_count": 10,
   "metadata": {},
   "outputs": [
    {
     "name": "stdout",
     "output_type": "stream",
     "text": [
      "torch.Size([1, 2, 128, 44])\n",
      "(1, 128, 44)\n"
     ]
    },
    {
     "name": "stderr",
     "output_type": "stream",
     "text": [
      "/tmp/ipykernel_3293576/319081470.py:6: UserWarning: amplitude_to_db was called on complex input so phase information will be discarded. To suppress this warning, call amplitude_to_db(np.abs(S)) instead.\n",
      "  Img = librosa.amplitude_to_db(reconComplex, ref = np.max)\n"
     ]
    },
    {
     "data": {
      "text/plain": [
       "<matplotlib.collections.QuadMesh at 0x7fc28d30c1a0>"
      ]
     },
     "execution_count": 10,
     "metadata": {},
     "output_type": "execute_result"
    },
    {
     "data": {
      "image/png": "[encoded data removed]",
      "text/plain": [
       "<Figure size 640x480 with 1 Axes>"
      ]
     },
     "metadata": {},
     "output_type": "display_data"
    }
   ],
   "source": [
    "sample1Batch = sample1.unsqueeze(0).to(\"cuda:0\")\n",
    "print(sample1Batch.shape)\n",
    "sample1_reocn = model(sample1Batch)[0].cpu().detach().numpy()\n",
    "\n",
    "reconComplex= dataset.twod_to_complex(sample1_reocn[0])\n",
    "Img = librosa.amplitude_to_db(reconComplex, ref = np.max)\n",
    "print(Img.shape)\n",
    "librosa.display.specshow(Img[0])\n",
    "\n"
   ]
  },
  {
   "cell_type": "code",
   "execution_count": 11,
   "metadata": {},
   "outputs": [
    {
     "name": "stdout",
     "output_type": "stream",
     "text": [
      "(1, 5461)\n"
     ]
    },
    {
     "data": {
      "text/html": [
       "\n",
       "                <audio  controls=\"controls\" >\n",
       "                    <source src=\"data:audio/wav;base64,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\" type=\"audio/wav\" />\n",
       "                    Your browser does not support the audio element.\n",
       "                </audio>\n",
       "              "
      ],
      "text/plain": [
       "<IPython.lib.display.Audio object>"
      ]
     },
     "execution_count": 11,
     "metadata": {},
     "output_type": "execute_result"
    }
   ],
   "source": [
    "_,x = scipy.signal.istft(reconComplex, 12000)\n",
    "        # get amplitude\n",
    "print(x.shape)\n",
    "\n",
    "from IPython.display import Audio\n",
    "Audio(data=x, rate=12000)"
   ]
  },
  {
   "cell_type": "code",
   "execution_count": 12,
   "metadata": {},
   "outputs": [],
   "source": [
    "real_indices = model.model.index_quantize(model(sample1Batch)[0].to(device='cuda:0'))"
   ]
  },
  {
   "cell_type": "code",
   "execution_count": 13,
   "metadata": {},
   "outputs": [],
   "source": [
    "real_indices = real_indices.flatten()"
   ]
  },
  {
   "cell_type": "code",
   "execution_count": null,
   "metadata": {},
   "outputs": [],
   "source": [
    "real_recon = model.model.decode_samples(real_indices.reshape(1,32,11))\n",
    "real_recon_complex = dataset.twod_to_complex(real_recon[0].cpu().detach().numpy())\n",
    "Img_real_recon = librosa.amplitude_to_db(real_recon_complex, ref = np.max)\n",
    "print(Img_real_recon.shape)\n",
    "librosa.display.specshow(Img_real_recon[0])\n",
    "\n",
    "_,x = scipy.signal.istft(real_recon_complex, 12000)\n",
    "        # get amplitude\n",
    "print(x.shape)\n",
    "\n",
    "from IPython.display import Audio\n",
    "Audio(data=x, rate=12000)"
   ]
  },
  {
   "cell_type": "code",
   "execution_count": null,
   "metadata": {},
   "outputs": [],
   "source": [
    "context = torch.tensor([[2]]).to(device='cuda:0')\n",
    "transformer = torch.load('saved_models/MONAI_Transformer_epochs_100.pt').to(device = 'cuda:0')\n",
    "\n",
    "fake_indices = transformer.generate(context,max_new_tokens=352).flatten()[1:].reshape(1,32,11)\n",
    "\n",
    "fake_recon = model.model.decode_samples(fake_indices)\n",
    "\n",
    "fake_recon_complex = dataset.twod_to_complex(fake_recon[0].cpu().detach().numpy())\n",
    "Img_fake = librosa.amplitude_to_db(fake_recon_complex, ref = np.max)\n",
    "print(Img_fake.shape)\n",
    "librosa.display.specshow(Img_fake[0])\n",
    "\n",
    "_,x = scipy.signal.istft(fake_recon_complex, 12000)\n",
    "        # get amplitude\n",
    "print(x.shape)\n",
    "\n",
    "from IPython.display import Audio\n",
    "Audio(data=x, rate=12000)"
   ]
  },
  {
   "cell_type": "code",
   "execution_count": null,
   "metadata": {},
   "outputs": [],
   "source": [
    "context = torch.tensor([[6]]).to(device='cuda:0')\n",
    "transformer = torch.load('saved_models/Transformer_epochs_100.pt').to(device = 'cuda:0')\n",
    "fake_indices = transformer.generate(context,max_new_tokens=352).flatten()[1:].reshape(1,32,11)\n",
    "\n",
    "fake_recon = model.model.decode_samples(fake_indices)\n",
    "\n",
    "fake_recon_complex = dataset.twod_to_complex(fake_recon[0].cpu().detach().numpy())\n",
    "Img_fake = librosa.amplitude_to_db(fake_recon_complex, ref = np.max)\n",
    "print(Img_fake.shape)\n",
    "librosa.display.specshow(Img_fake[0])\n",
    "\n",
    "_,x = scipy.signal.istft(fake_recon_complex, 12000)\n",
    "        # get amplitude\n",
    "print(x.shape)\n",
    "\n",
    "from IPython.display import Audio\n",
    "Audio(data=x, rate=12000)"
   ]
  },
  {
   "cell_type": "code",
   "execution_count": 14,
   "metadata": {},
   "outputs": [],
   "source": [
    "def generate(model, idx, max_new_tokens):\n",
    "    \"\"\"\n",
    "    Generate a sequence of tokens based on the initial context `idx`.\n",
    "\n",
    "    Args:\n",
    "        idx (torch.Tensor): Initial context of shape (B, T) with indices.\n",
    "        max_new_tokens (int): Number of tokens to generate.\n",
    "\n",
    "    Returns:\n",
    "        torch.Tensor: Generated sequence of shape (B, T + max_new_tokens).\n",
    "    \"\"\"\n",
    "    model.eval()  # Ensure the model is in evaluation mode\n",
    "\n",
    "    with torch.no_grad():  # Disable gradient computation for inference\n",
    "        for _ in range(max_new_tokens):\n",
    "            # Crop `idx` to the last `block_size` tokens for efficient processing\n",
    "            idx_cond = idx[:, -model.block_size:]\n",
    "\n",
    "            # Forward pass to get logits\n",
    "            logits = model(idx_cond)\n",
    "\n",
    "            # Focus only on the last time step (prediction for the next token)\n",
    "            logits = logits[:, -1, :]  # Shape: (B, vocab_size)\n",
    "\n",
    "            # Remove probabilities for tokens with index >= 256\n",
    "            logits[:, 256:] = 0\n",
    "\n",
    "            # Convert logits to probabilities using softmax\n",
    "            probs = F.softmax(logits, dim=-1)  # Shape: (B, vocab_size)\n",
    "\n",
    "            # Sample the next token from the probability distribution\n",
    "            idx_next = torch.multinomial(probs, num_samples=1)  # Shape: (B, 1)\n",
    "\n",
    "            # Append the sampled token to the sequence\n",
    "            idx = torch.cat((idx, idx_next), dim=1)  # Shape: (B, T + 1)\n",
    "\n",
    "    return idx"
   ]
  },
  {
   "cell_type": "code",
   "execution_count": 33,
   "metadata": {},
   "outputs": [
    {
     "name": "stderr",
     "output_type": "stream",
     "text": [
      "/tmp/ipykernel_3906474/1353698556.py:6: FutureWarning: You are using `torch.load` with `weights_only=False` (the current default value), which uses the default pickle module implicitly. It is possible to construct malicious pickle data which will execute arbitrary code during unpickling (See https://github.com/pytorch/pytorch/blob/main/SECURITY.md#untrusted-models for more details). In a future release, the default value for `weights_only` will be flipped to `True`. This limits the functions that could be executed during unpickling. Arbitrary objects will no longer be allowed to be loaded via this mode unless they are explicitly allowlisted by the user via `torch.serialization.add_safe_globals`. We recommend you start setting `weights_only=True` for any use case where you don't have full control of the loaded file. Please open an issue on GitHub for any issues related to this experimental feature.\n",
      "  m = torch.load('saved_models/MONAI_Cond_Transformer_epochs_30.pt').to(device = 'cuda:0')\n"
     ]
    },
    {
     "name": "stdout",
     "output_type": "stream",
     "text": [
      "(1, 128, 44)\n",
      "(1, 5461)\n"
     ]
    },
    {
     "name": "stderr",
     "output_type": "stream",
     "text": [
      "/tmp/ipykernel_3906474/1353698556.py:14: UserWarning: amplitude_to_db was called on complex input so phase information will be discarded. To suppress this warning, call amplitude_to_db(np.abs(S)) instead.\n",
      "  Img_fake = librosa.amplitude_to_db(fake_recon_complex, ref = np.max)\n"
     ]
    },
    {
     "data": {
      "text/html": [
       "\n",
       "                <audio  controls=\"controls\" >\n",
       "                    <source src=\"data:audio/wav;base64,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\" type=\"audio/wav\" />\n",
       "                    Your browser does not support the audio element.\n",
       "                </audio>\n",
       "              "
      ],
      "text/plain": [
       "<IPython.lib.display.Audio object>"
      ]
     },
     "execution_count": 33,
     "metadata": {},
     "output_type": "execute_result"
    },
    {
     "data": {
      "image/png": "[encoded data removed]",
      "text/plain": [
       "<Figure size 640x480 with 1 Axes>"
      ]
     },
     "metadata": {},
     "output_type": "display_data"
    }
   ],
   "source": [
    "from src.TransformerMonai import MonaiDecoderOnlyModel\n",
    "label = 5\n",
    "BOS_TOKEN = 256\n",
    "device = 'cuda:0'\n",
    "context = torch.tensor([[BOS_TOKEN, 257 + label]], dtype=torch.long, device=device)\n",
    "m = torch.load('saved_models/MONAI_Cond_Transformer_epochs_30.pt').to(device = 'cuda:0')\n",
    "generated = m.generate(context, max_new_tokens=352)\n",
    "indices = generated[0, 2:]\n",
    "fake_indices = indices.view(1, 32, 11)\n",
    "\n",
    "fake_recon = model.model.decode_samples(fake_indices)\n",
    "\n",
    "fake_recon_complex = dataset.twod_to_complex(fake_recon[0].cpu().detach().numpy())\n",
    "Img_fake = librosa.amplitude_to_db(fake_recon_complex, ref = np.max)\n",
    "print(Img_fake.shape)\n",
    "librosa.display.specshow(Img_fake[0])\n",
    "\n",
    "_,x = scipy.signal.istft(fake_recon_complex, 12000)\n",
    "        # get amplitude\n",
    "print(x.shape)\n",
    "\n",
    "from IPython.display import Audio\n",
    "Audio(data=x, rate=12000)"
   ]
  },
  {
   "cell_type": "code",
   "execution_count": 58,
   "metadata": {},
   "outputs": [
    {
     "name": "stderr",
     "output_type": "stream",
     "text": [
      "/tmp/ipykernel_3906474/264855861.py:6: FutureWarning: You are using `torch.load` with `weights_only=False` (the current default value), which uses the default pickle module implicitly. It is possible to construct malicious pickle data which will execute arbitrary code during unpickling (See https://github.com/pytorch/pytorch/blob/main/SECURITY.md#untrusted-models for more details). In a future release, the default value for `weights_only` will be flipped to `True`. This limits the functions that could be executed during unpickling. Arbitrary objects will no longer be allowed to be loaded via this mode unless they are explicitly allowlisted by the user via `torch.serialization.add_safe_globals`. We recommend you start setting `weights_only=True` for any use case where you don't have full control of the loaded file. Please open an issue on GitHub for any issues related to this experimental feature.\n",
      "  m = torch.load('saved_models/NanoGPT_Cond2_Transformer_epochs_30.pt').to(device = 'cuda:0')\n"
     ]
    },
    {
     "name": "stdout",
     "output_type": "stream",
     "text": [
      "torch.Size([1, 2, 128, 44])\n",
      "tensor(-0.5471, device='cuda:0', grad_fn=<MinBackward1>) tensor(0.5300, device='cuda:0', grad_fn=<MaxBackward1>)\n",
      "3.1564305e-08 0.0012720099\n",
      "(1, 128, 44)\n",
      "(1, 5461)\n"
     ]
    },
    {
     "name": "stderr",
     "output_type": "stream",
     "text": [
      "/tmp/ipykernel_3906474/264855861.py:18: UserWarning: amplitude_to_db was called on complex input so phase information will be discarded. To suppress this warning, call amplitude_to_db(np.abs(S)) instead.\n",
      "  Img_fake = librosa.amplitude_to_db(fake_recon_complex, ref = np.max)\n"
     ]
    },
    {
     "data": {
      "text/html": [
       "\n",
       "                <audio  controls=\"controls\" >\n",
       "                    <source src=\"data:audio/wav;base64,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\" type=\"audio/wav\" />\n",
       "                    Your browser does not support the audio element.\n",
       "                </audio>\n",
       "              "
      ],
      "text/plain": [
       "<IPython.lib.display.Audio object>"
      ]
     },
     "execution_count": 58,
     "metadata": {},
     "output_type": "execute_result"
    },
    {
     "data": {
      "image/png": "[encoded data removed]",
      "text/plain": [
       "<Figure size 640x480 with 1 Axes>"
      ]
     },
     "metadata": {},
     "output_type": "display_data"
    }
   ],
   "source": [
    "from trainTransformerNanoGPTCond import *\n",
    "label = 8\n",
    "BOS_TOKEN = 256\n",
    "device = 'cuda:0'\n",
    "context = torch.tensor([[BOS_TOKEN, 257 + label]], dtype=torch.long, device=device)\n",
    "m = torch.load('saved_models/NanoGPT_Cond2_Transformer_epochs_30.pt').to(device = 'cuda:0')\n",
    "generated = m.generate(context, max_new_tokens=352)\n",
    "indices = generated[0, 2:]\n",
    "fake_indices = indices.view(1, 32, 11)\n",
    "\n",
    "fake_recon = model.model.decode_samples(fake_indices)\n",
    "print(fake_recon.shape)\n",
    "print(fake_recon.min(), fake_recon.max())\n",
    "\n",
    "fake_recon_complex = dataset.twod_to_complex(fake_recon[0].cpu().detach().numpy())\n",
    "print(np.abs(fake_recon_complex).min(), np.abs(fake_recon_complex).max())\n",
    "\n",
    "Img_fake = librosa.amplitude_to_db(fake_recon_complex, ref = np.max)\n",
    "print(Img_fake.shape)\n",
    "librosa.display.specshow(Img_fake[0])\n",
    "\n",
    "_,x = scipy.signal.istft(fake_recon_complex, 12000)\n",
    "        # get amplitude\n",
    "print(x.shape)\n",
    "\n",
    "from IPython.display import Audio\n",
    "Audio(data=x, rate=12000)"
   ]
  },
  {
   "cell_type": "code",
   "execution_count": 57,
   "metadata": {},
   "outputs": [],
   "source": [
    "import numpy as np\n",
    "from scipy.io.wavfile import write\n",
    "\n",
    "# Your NumPy array\n",
    "array = x  # Example array, replace with your actual data\n",
    "\n",
    "# Normalize to the range of int16 (if necessary)\n",
    "array = array / np.max(np.abs(array))  # Normalize between -1 and 1\n",
    "array = (array * 32767).astype(np.int16)  # Convert to int16\n",
    "\n",
    "# Save as WAV file\n",
    "sample_rate = 12000  # Set an appropriate sample rate (adjust as needed)\n",
    "write(\"output.wav\", sample_rate, array.T)  # Transpose to match WAV format\n"
   ]
  },
  {
   "cell_type": "code",
   "execution_count": 53,
   "metadata": {},
   "outputs": [
    {
     "data": {
      "text/plain": [
       "(1, 5461)"
      ]
     },
     "execution_count": 53,
     "metadata": {},
     "output_type": "execute_result"
    }
   ],
   "source": [
    "x.shape"
   ]
  },
  {
   "cell_type": "code",
   "execution_count": null,
   "metadata": {},
   "outputs": [],
   "source": [
    "import soundfile as sf "
   ]
  }
 ],
 "metadata": {
  "kernelspec": {
   "display_name": "YagnaPythonEnv",
   "language": "python",
   "name": "yagnapythonenv"
  },
  "language_info": {
   "codemirror_mode": {
    "name": "ipython",
    "version": 3
   },
   "file_extension": ".py",
   "mimetype": "text/x-python",
   "name": "python",
   "nbconvert_exporter": "python",
   "pygments_lexer": "ipython3",
   "version": "3.12.6"
  }
 },
 "nbformat": 4,
 "nbformat_minor": 4
}
